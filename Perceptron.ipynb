{
 "cells": [
  {
   "cell_type": "code",
   "execution_count": 18,
   "id": "669396cd",
   "metadata": {},
   "outputs": [],
   "source": [
    "import math\n",
    "class Perceptron:\n",
    "    def __init__(self,weights,bias):\n",
    "        \"\"\"\n",
    "        inputs : a vector of inputs\n",
    "        weights : a vector of weights\n",
    "        eta : learning rate \n",
    "        output : the provided output\n",
    "        \"\"\"\n",
    "        self.weights = weights\n",
    "        self.bias = bias\n",
    "        self.n = len(self.weights)\n",
    "    \n",
    "    def activation_function(self, x):\n",
    "        # sigmoid function\n",
    "        return 1/(1+math.exp(-x))\n",
    "    \n",
    "    def Hard_activation_function(self, x):\n",
    "        return 1 if x > 0 else 0\n",
    "    \n",
    "    def predict(self,inputs):\n",
    "        # raise error if inputs don't match weights\n",
    "        if len(self.weights)!= self.n:\n",
    "            raise ValueError(\"Weights don't match inputs\")\n",
    "        # compute weighted sum and apply activation\n",
    "        x = sum([self.weights[i]*inputs[i] for i in range(self.n)])-self.bias\n",
    "        return self.Hard_activation_function(x)\n",
    "    \n",
    "    def train(self):\n",
    "        # adjust weights using learning rule\n",
    "        pass\n"
   ]
  },
  {
   "cell_type": "code",
   "execution_count": null,
   "id": "6f43cdfb",
   "metadata": {},
   "outputs": [
    {
     "data": {
      "text/plain": [
       "1"
      ]
     },
     "execution_count": 21,
     "metadata": {},
     "output_type": "execute_result"
    }
   ],
   "source": [
    "input = [0,1]\n",
    "\n",
    "OR_weights = [1,1]\n",
    "bias = 1/2\n",
    "\n",
    "AND_weights = [1,3/2]\n",
    "bias = 2\n",
    "\n",
    "OR_Perceptron = Perceptron(OR_weights,bias)\n",
    "OR_Perceptron.predict(input)\n"
   ]
  }
 ],
 "metadata": {
  "kernelspec": {
   "display_name": "Python 3",
   "language": "python",
   "name": "python3"
  },
  "language_info": {
   "codemirror_mode": {
    "name": "ipython",
    "version": 3
   },
   "file_extension": ".py",
   "mimetype": "text/x-python",
   "name": "python",
   "nbconvert_exporter": "python",
   "pygments_lexer": "ipython3",
   "version": "3.13.2"
  }
 },
 "nbformat": 4,
 "nbformat_minor": 5
}
